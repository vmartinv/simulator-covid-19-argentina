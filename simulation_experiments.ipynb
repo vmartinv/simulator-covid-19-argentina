{
 "cells": [
  {
   "cell_type": "code",
   "execution_count": null,
   "metadata": {},
   "outputs": [],
   "source": [
    "import json\n",
    "import os\n",
    "import numpy as np\n",
    "import pandas as pd"
   ]
  },
  {
   "cell_type": "code",
   "execution_count": null,
   "metadata": {},
   "outputs": [],
   "source": [
    "#importing plotly and cufflinks in offline mode\n",
    "import cufflinks as cf\n",
    "import plotly.offline\n",
    "cf.go_offline()\n",
    "cf.set_config_file(offline=False, world_readable=True)\n",
    "import plotly.express as px\n",
    "import plotly.graph_objects as go"
   ]
  },
  {
   "cell_type": "code",
   "execution_count": null,
   "metadata": {},
   "outputs": [],
   "source": [
    "DATA_DIR = os.path.join(\"data\", \"argentina\")\n",
    "JSON_RESULTS = os.path.join(DATA_DIR, \"simulation_results.json\")"
   ]
  },
  {
   "cell_type": "markdown",
   "metadata": {},
   "source": [
    "# Generate data"
   ]
  },
  {
   "cell_type": "code",
   "execution_count": null,
   "metadata": {},
   "outputs": [],
   "source": [
    "import generate_databases\n",
    "generate_databases.store_all()"
   ]
  },
  {
   "cell_type": "code",
   "execution_count": null,
   "metadata": {},
   "outputs": [],
   "source": [
    "!cd simulation && cmake -DCMAKE_BUILD_TYPE=Release . && make -j8"
   ]
  },
  {
   "cell_type": "code",
   "execution_count": null,
   "metadata": {},
   "outputs": [],
   "source": [
    "print(\"Running simulation...\")\n",
    "!simulation/simulation \\\n",
    "    --days 300 \\\n",
    "    --population {os.path.join(DATA_DIR, \"fake_population\")} \\\n",
    "    --json {JSON_RESULTS} \\\n",
    "    --seed 0 \\\n",
    "    --silent"
   ]
  },
  {
   "cell_type": "markdown",
   "metadata": {},
   "source": [
    "# Show results"
   ]
  },
  {
   "cell_type": "code",
   "execution_count": null,
   "metadata": {},
   "outputs": [],
   "source": [
    "with open(JSON_RESULTS) as f:\n",
    "  sim_res = json.load(f)\n",
    "sim_res = pd.DataFrame(sim_res)\n",
    "sim_res.head()"
   ]
  },
  {
   "cell_type": "code",
   "execution_count": null,
   "metadata": {},
   "outputs": [],
   "source": [
    "print(f\"Tiempo total de la simulación: {sim_res['compute_time_ms'].sum()/1000/60:.2f} minutos\")\n",
    "fig = go.Figure()\n",
    "fig.add_trace(go.Scatter(x=sim_res[\"day\"], y=sim_res[\"compute_time_ms\"], name=\"\"))\n",
    "                         #line=dict(color='firebrick', width=4)))# dash options include 'dash', 'dot', and 'dashdot'\n",
    "\n",
    "\n",
    "fig.update_layout(title='Performance de la simulación',\n",
    "                   xaxis_title='Tiempo desde el primer caso (Días)',\n",
    "                   yaxis_title='Duración (milisegundos)')\n",
    "\n",
    "\n",
    "fig.show()"
   ]
  },
  {
   "cell_type": "code",
   "execution_count": null,
   "metadata": {},
   "outputs": [],
   "source": [
    "states = {\n",
    "    \"SUSCEPTIBLE\": \"Individuos susceptibles\",\n",
    "    \"EXPOSED\": \"Individuos expuestos\",\n",
    "    \"INFECTED_1\": \"Individuos infectados\",\n",
    "    \"INFECTED_2\": \"Individuos infectados severamente\",\n",
    "    \"INFECTED_3\": \"Individuos infectados críticamente\",\n",
    "    \"RECOVERED\": \"Individuos recuperados\",\n",
    "    \"DEAD\": \"Individuos muertos\"\n",
    "}"
   ]
  },
  {
   "cell_type": "code",
   "execution_count": null,
   "metadata": {},
   "outputs": [],
   "source": [
    "poblacion_total = sim_res[sim_res['day']==1][states].sum(axis=1)[0]\n",
    "f\"{poblacion_total} personas\""
   ]
  },
  {
   "cell_type": "code",
   "execution_count": null,
   "metadata": {},
   "outputs": [],
   "source": [
    "fig = go.Figure()\n",
    "for st,name in states.items():\n",
    "    fig.add_trace(go.Scatter(x=sim_res[\"day\"], y=sim_res[st]*1000/poblacion_total, name=name))\n",
    "                         #line=dict(color='firebrick', width=4)))# dash options include 'dash', 'dot', and 'dashdot'\n",
    "\n",
    "\n",
    "# Edit the layout\n",
    "fig.update_layout(title='Casos pronosticados de COVID-19 por resultado clínico',\n",
    "                   xaxis_title='Tiempo desde el primer caso (Días)',\n",
    "                   yaxis_title='Casos por cada mil personas')\n",
    "\n",
    "\n",
    "fig.show()"
   ]
  },
  {
   "cell_type": "code",
   "execution_count": null,
   "metadata": {},
   "outputs": [],
   "source": [
    "inf_sources = {\n",
    "    \"HOME_CONTACT\": \"Contacto en hogar\",\n",
    "    \"SCHOOL_CONTACT\": \"Contacto en la escuela\",\n",
    "    \"WORK_CONTACT\": \"Contacto en trabajo\",\n",
    "    \"NEIGHBOURHOOD_CONTACT\": \"Contacto en vecindario\",\n",
    "    \"INTER_NEIGHBOURHOOD_CONTACT\": \"Contacto en vecindario cercano\",\n",
    "    \"IMPORTED_CASE\": \"Contacto fuera del país\",\n",
    "}"
   ]
  },
  {
   "cell_type": "code",
   "execution_count": null,
   "metadata": {},
   "outputs": [],
   "source": [
    "fig = go.Figure(data=[go.Pie(labels=list(inf_sources.values()), values=sim_res[inf_sources].sum())])\n",
    "fig.update_layout(title=\"Fuentes de infecciones\")\n",
    "fig.show()"
   ]
  },
  {
   "cell_type": "code",
   "execution_count": null,
   "metadata": {},
   "outputs": [],
   "source": [
    "fig = go.Figure()\n",
    "for st,name in inf_sources.items():\n",
    "    fig.add_trace(go.Scatter(x=sim_res[\"day\"], y=sim_res[st]*1000/poblacion_total, name=name))\n",
    "                         #line=dict(color='firebrick', width=4)))# dash options include 'dash', 'dot', and 'dashdot'\n",
    "\n",
    "\n",
    "# Edit the layout\n",
    "fig.update_layout(title='Fuente de infecciones',\n",
    "                   xaxis_title='Tiempo desde el primer caso (Días)',\n",
    "                   yaxis_title='Infecciones por cada mil personas')\n",
    "\n",
    "\n",
    "fig.show()"
   ]
  },
  {
   "cell_type": "code",
   "execution_count": null,
   "metadata": {},
   "outputs": [],
   "source": []
  }
 ],
 "metadata": {
  "kernelspec": {
   "display_name": "env",
   "language": "python",
   "name": "env"
  },
  "language_info": {
   "codemirror_mode": {
    "name": "ipython",
    "version": 3
   },
   "file_extension": ".py",
   "mimetype": "text/x-python",
   "name": "python",
   "nbconvert_exporter": "python",
   "pygments_lexer": "ipython3",
   "version": "3.7.5"
  }
 },
 "nbformat": 4,
 "nbformat_minor": 4
}
