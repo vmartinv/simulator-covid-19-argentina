{
 "cells": [
  {
   "cell_type": "code",
   "execution_count": null,
   "metadata": {},
   "outputs": [],
   "source": [
    "import json\n",
    "import os\n",
    "import numpy as np\n",
    "import pandas as pd\n",
    "import geopandas as gpd\n",
    "import time\n",
    "from IPython.display import display\n",
    "import ipywidgets as widgets"
   ]
  },
  {
   "cell_type": "code",
   "execution_count": null,
   "metadata": {},
   "outputs": [],
   "source": [
    "#importing plotly and cufflinks in offline mode\n",
    "import cufflinks as cf\n",
    "import plotly.offline\n",
    "cf.go_offline()\n",
    "cf.set_config_file(offline=False, world_readable=True)\n",
    "import plotly.express as px\n",
    "import plotly.graph_objects as go"
   ]
  },
  {
   "cell_type": "code",
   "execution_count": null,
   "metadata": {},
   "outputs": [],
   "source": [
    "!jupyter nbextension enable --py --sys-prefix widgetsnbextension \n",
    "!jupyter nbextension enable --py --sys-prefix gmaps\n",
    "import gmaps\n",
    "import gmaps.datasets\n",
    "with open('google_maps_key.txt', 'r') as fapi:\n",
    "    gmaps.configure(api_key=fapi.read().strip())"
   ]
  },
  {
   "cell_type": "code",
   "execution_count": null,
   "metadata": {},
   "outputs": [],
   "source": [
    "DATA_DIR = os.path.join(\"data\", \"argentina\")\n",
    "JSON_RESULTS = os.path.join(DATA_DIR, \"simulation_results.json\")"
   ]
  },
  {
   "cell_type": "markdown",
   "metadata": {},
   "source": [
    "# Generate data"
   ]
  },
  {
   "cell_type": "code",
   "execution_count": null,
   "metadata": {},
   "outputs": [],
   "source": [
    "import generate_databases\n",
    "generate_databases.store_all()"
   ]
  },
  {
   "cell_type": "code",
   "execution_count": null,
   "metadata": {},
   "outputs": [],
   "source": [
    "!cd simulation && cmake -DCMAKE_BUILD_TYPE=Release . && make -j8"
   ]
  },
  {
   "cell_type": "code",
   "execution_count": null,
   "metadata": {},
   "outputs": [],
   "source": [
    "print(\"Running simulation...\")\n",
    "!simulation/simulation \\\n",
    "    --days 300 \\\n",
    "    --population {os.path.join(DATA_DIR, \"fake_population\")} \\\n",
    "    --json {JSON_RESULTS} \\\n",
    "    --seed 0 \\\n",
    "    --silent"
   ]
  },
  {
   "cell_type": "markdown",
   "metadata": {},
   "source": [
    "# Show results"
   ]
  },
  {
   "cell_type": "code",
   "execution_count": null,
   "metadata": {},
   "outputs": [],
   "source": [
    "with open(JSON_RESULTS) as f:\n",
    "  sim_results = json.load(f)\n",
    "sim_general = pd.DataFrame(sim_results[\"general\"])\n",
    "sim_general.head()"
   ]
  },
  {
   "cell_type": "code",
   "execution_count": null,
   "metadata": {},
   "outputs": [],
   "source": [
    "print(f\"Tiempo total de la simulación: {sim_general['compute_time_ms'].sum()/1000/60:.2f} minutos\")\n",
    "fig = go.Figure()\n",
    "fig.add_trace(go.Scatter(x=sim_general[\"day\"], y=sim_general[\"compute_time_ms\"], name=\"\"))\n",
    "                         #line=dict(color='firebrick', width=4)))# dash options include 'dash', 'dot', and 'dashdot'\n",
    "\n",
    "\n",
    "fig.update_layout(title='Performance de la simulación',\n",
    "                   xaxis_title='Tiempo desde el primer caso (Días)',\n",
    "                   yaxis_title='Duración (milisegundos)')\n",
    "\n",
    "\n",
    "fig.show()"
   ]
  },
  {
   "cell_type": "code",
   "execution_count": null,
   "metadata": {},
   "outputs": [],
   "source": [
    "states = {\n",
    "    \"SUSCEPTIBLE\": \"Individuos susceptibles\",\n",
    "    \"EXPOSED\": \"Individuos expuestos\",\n",
    "    \"INFECTED_1\": \"Individuos infectados\",\n",
    "    \"INFECTED_2\": \"Individuos infectados severamente\",\n",
    "    \"INFECTED_3\": \"Individuos infectados críticamente\",\n",
    "    \"RECOVERED\": \"Individuos recuperados\",\n",
    "    \"DEAD\": \"Individuos muertos\"\n",
    "}"
   ]
  },
  {
   "cell_type": "code",
   "execution_count": null,
   "metadata": {},
   "outputs": [],
   "source": [
    "poblacion_total = sim_general[sim_general['day']==1][states].sum(axis=1)[0]\n",
    "f\"{poblacion_total} personas\""
   ]
  },
  {
   "cell_type": "code",
   "execution_count": null,
   "metadata": {},
   "outputs": [],
   "source": [
    "fig = go.Figure()\n",
    "for st,name in states.items():\n",
    "    fig.add_trace(go.Scatter(x=sim_general[\"day\"], y=sim_general[st]*1000/poblacion_total, name=name))\n",
    "                         #line=dict(color='firebrick', width=4)))# dash options include 'dash', 'dot', and 'dashdot'\n",
    "\n",
    "\n",
    "# Edit the layout\n",
    "fig.update_layout(title='Casos pronosticados de COVID-19 por resultado clínico',\n",
    "                   xaxis_title='Tiempo desde el primer caso (Días)',\n",
    "                   yaxis_title='Casos por cada mil personas')\n",
    "\n",
    "\n",
    "fig.show()"
   ]
  },
  {
   "cell_type": "code",
   "execution_count": null,
   "metadata": {},
   "outputs": [],
   "source": [
    "inf_sources = {\n",
    "    \"HOME_CONTACT\": \"Contacto en hogar\",\n",
    "    \"SCHOOL_CONTACT\": \"Contacto en la escuela\",\n",
    "    \"WORK_CONTACT\": \"Contacto en trabajo\",\n",
    "    \"NEIGHBOURHOOD_CONTACT\": \"Contacto en vecindario\",\n",
    "    \"INTER_NEIGHBOURHOOD_CONTACT\": \"Contacto en vecindario cercano\",\n",
    "    \"IMPORTED_CASE\": \"Contacto fuera del país\",\n",
    "}"
   ]
  },
  {
   "cell_type": "code",
   "execution_count": null,
   "metadata": {},
   "outputs": [],
   "source": [
    "fig = go.Figure(data=[go.Pie(labels=list(inf_sources.values()), values=sim_general[inf_sources].sum())])\n",
    "fig.update_layout(title=\"Fuentes de infecciones\")\n",
    "fig.show()"
   ]
  },
  {
   "cell_type": "code",
   "execution_count": null,
   "metadata": {},
   "outputs": [],
   "source": [
    "fig = go.Figure()\n",
    "for st,name in inf_sources.items():\n",
    "    fig.add_trace(go.Scatter(x=sim_general[\"day\"], y=sim_general[st]*1000/poblacion_total, name=name))\n",
    "                         #line=dict(color='firebrick', width=4)))# dash options include 'dash', 'dot', and 'dashdot'\n",
    "\n",
    "\n",
    "# Edit the layout\n",
    "fig.update_layout(title='Fuente de infecciones',\n",
    "                   xaxis_title='Tiempo desde el primer caso (Días)',\n",
    "                   yaxis_title='Infecciones por cada mil personas')\n",
    "\n",
    "\n",
    "fig.show()"
   ]
  },
  {
   "cell_type": "code",
   "execution_count": null,
   "metadata": {},
   "outputs": [],
   "source": [
    "geodata = gpd.read_file(os.path.join(DATA_DIR, 'fake_population.gpkg'), encoding='utf-8')\n",
    "geodata.to_crs(epsg=4326,inplace=True)\n",
    "geodata"
   ]
  },
  {
   "cell_type": "code",
   "execution_count": null,
   "metadata": {},
   "outputs": [],
   "source": [
    "geodata['centroid']=geodata.geometry.centroid.apply(lambda c: [c.y, c.x])"
   ]
  },
  {
   "cell_type": "code",
   "execution_count": null,
   "metadata": {},
   "outputs": [],
   "source": [
    "sim_zones = pd.DataFrame(sim_results[\"by_zone\"])\n",
    "sim_zones.head()"
   ]
  },
  {
   "cell_type": "code",
   "execution_count": null,
   "metadata": {},
   "outputs": [],
   "source": []
  },
  {
   "cell_type": "code",
   "execution_count": null,
   "metadata": {},
   "outputs": [],
   "source": [
    "contact_columns = list(filter(lambda c: c.endswith('CONTACT'), sim_zones.columns))+['IMPORTED_CASE']\n",
    "sim_zones['CONTAGIOS'] = sim_zones[contact_columns].sum(axis=1)"
   ]
  },
  {
   "cell_type": "code",
   "execution_count": null,
   "metadata": {},
   "outputs": [],
   "source": [
    "pesos = geodata['hogares']\n",
    "\n",
    "m = gmaps.Map()\n",
    "m.add_layer(gmaps.heatmap_layer(\n",
    "    geodata['centroid'], weights=pesos,\n",
    "    max_intensity=float(max(pesos)), point_radius=5.0\n",
    "))\n",
    "m"
   ]
  },
  {
   "cell_type": "code",
   "execution_count": null,
   "metadata": {},
   "outputs": [],
   "source": []
  },
  {
   "cell_type": "code",
   "execution_count": null,
   "metadata": {},
   "outputs": [],
   "source": [
    "geodata['include'] = np.array(sim_zones[sim_zones['day'] == 1]['DEAD']>0)\n",
    "len(geodata[geodata['include']== True]['centroid'])"
   ]
  },
  {
   "cell_type": "code",
   "execution_count": null,
   "metadata": {},
   "outputs": [],
   "source": [
    "geodata['centroid'].iloc[0]"
   ]
  },
  {
   "cell_type": "code",
   "execution_count": null,
   "metadata": {},
   "outputs": [],
   "source": [
    "\n",
    "class SeirExplorer(object):\n",
    "    \"\"\"\n",
    "    Jupyter widget for exploring the SEIR simulation results.\n",
    "\n",
    "    The user uses the slider to choose the day. This renders\n",
    "    a heatmap of infected people in that day.\n",
    "    \"\"\"\n",
    "\n",
    "    def __init__(self, locations, df, column, title, unit, min_display=10):\n",
    "        self._df = df\n",
    "        self._locations = locations\n",
    "        self._heatmap = None\n",
    "        self._slider = None\n",
    "        self._column = column\n",
    "        self._unit = unit\n",
    "        self._min_display = min_display\n",
    "        initial_day = 100\n",
    "\n",
    "        title_widget = widgets.HTML(\n",
    "            f'<h3>{title}</h3>'\n",
    "        )\n",
    "\n",
    "        map_figure = self._render_map(initial_day)\n",
    "        controls = self._render_controls(initial_day)\n",
    "        self._container = widgets.VBox([title_widget, controls, map_figure])\n",
    "\n",
    "    def render(self):\n",
    "        display(self._container)\n",
    "\n",
    "    def _on_day_change(self, change):\n",
    "        return self.update_day(self._slider.value)\n",
    "    \n",
    "    def update_day(self, day):\n",
    "        self._slider.value = day\n",
    "        self._heatmap.locations = self._locations_for_day(day)\n",
    "        self._heatmap.weights = self._weights_for_day(day)\n",
    "        self._total_box.value = self._total_text_for_day(day)\n",
    "        return self._container\n",
    "\n",
    "    def _render_map(self, initial_day):\n",
    "        fig = gmaps.figure(map_type='HYBRID')\n",
    "        self._heatmap = gmaps.heatmap_layer(\n",
    "            self._locations_for_day(initial_day), weights=self._weights_for_day(initial_day),\n",
    "            max_intensity=int(self._df.groupby('day').max()[self._column].max()),\n",
    "            point_radius=5\n",
    "        )\n",
    "        fig.add_layer(self._heatmap)\n",
    "        return fig\n",
    "\n",
    "    def _render_controls(self, initial_day):\n",
    "        self._slider = widgets.IntSlider(\n",
    "            value=initial_day,\n",
    "            min=min(self._df['day']),\n",
    "            max=max(self._df['day']),\n",
    "            description='Día',\n",
    "            continuous_update=False\n",
    "        )\n",
    "        self._total_box = widgets.Label(\n",
    "            value=self._total_text_for_day(initial_day)\n",
    "        )\n",
    "        self._slider.observe(self._on_day_change, names='value')\n",
    "        controls = widgets.HBox(\n",
    "            [self._slider, self._total_box],\n",
    "            layout={'justify_content': 'space-between'}\n",
    "        )\n",
    "        return controls\n",
    "\n",
    "    def _locations_for_day(self, day):\n",
    "        self._locations['include'] = np.array(self._df[self._df['day'] == day][self._column]>self._min_display)\n",
    "        ret = self._locations[self._locations['include']== True]['centroid']\n",
    "        return ret if len(ret) else [self._locations['centroid'].iloc[0]]\n",
    "\n",
    "    def _weights_for_day(self, day):\n",
    "        ret = self._df[(self._df['day'] == day) & (self._df[self._column]>self._min_display)][self._column]\n",
    "        return ret if len(ret) else np.array([0])\n",
    "\n",
    "    def _total_for_day(self, day):\n",
    "        return int(self._weights_for_day(day).sum())\n",
    "\n",
    "    def _total_text_for_day(self, day):\n",
    "        return f'{self._total_for_day(day)} {self._unit}'\n",
    "\n",
    "\n",
    "#explorer = SeirExplorer(geodata, sim_zones, column='DEAD', unit=\"muertos\", title=\"Muertos pronosticados de COVID-19 por ubicación geográfica\")\n",
    "explorer = SeirExplorer(geodata, sim_zones, column='CONTAGIOS', unit=\"contagios\", title=\"Contagios pronosticados de COVID-19 sin cuarentena por ubicación geográfica\")\n",
    "#explorer = SeirExplorer(geodata, sim_zones, column='SUSCEPTIBLE', unit=\"susceptibles\", title=\"Susceptibles pronosticados de COVID-19 sin cuarentena por ubicación geográfica\")\n",
    "explorer.render()"
   ]
  },
  {
   "cell_type": "code",
   "execution_count": null,
   "metadata": {},
   "outputs": [],
   "source": [
    "explorer._heatmap.point_radius = 15"
   ]
  },
  {
   "cell_type": "code",
   "execution_count": null,
   "metadata": {},
   "outputs": [],
   "source": [
    "for day in range(10, 87):\n",
    "    explorer.update_day(day)\n",
    "    time.sleep(0.01)\n",
    "    if day<10:\n",
    "        time.sleep(2)"
   ]
  },
  {
   "cell_type": "code",
   "execution_count": null,
   "metadata": {},
   "outputs": [],
   "source": [
    "pesos = sim_zones[sim_zones['day']==100]['INFECTED_1']\n",
    "\n",
    "m = gmaps.Map()\n",
    "m.add_layer(gmaps.heatmap_layer(\n",
    "    geodata['centroid'], weights=pesos,\n",
    "    max_intensity=float(max(pesos)), point_radius=20.0\n",
    "))\n",
    "m"
   ]
  },
  {
   "cell_type": "code",
   "execution_count": null,
   "metadata": {},
   "outputs": [],
   "source": []
  }
 ],
 "metadata": {
  "kernelspec": {
   "display_name": "env",
   "language": "python",
   "name": "env"
  },
  "language_info": {
   "codemirror_mode": {
    "name": "ipython",
    "version": 3
   },
   "file_extension": ".py",
   "mimetype": "text/x-python",
   "name": "python",
   "nbconvert_exporter": "python",
   "pygments_lexer": "ipython3",
   "version": "3.7.5"
  }
 },
 "nbformat": 4,
 "nbformat_minor": 4
}
