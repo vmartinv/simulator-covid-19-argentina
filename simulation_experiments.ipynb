{
 "cells": [
  {
   "cell_type": "code",
   "execution_count": null,
   "metadata": {},
   "outputs": [],
   "source": [
    "import json\n",
    "import os\n",
    "import pandas as pd"
   ]
  },
  {
   "cell_type": "code",
   "execution_count": null,
   "metadata": {},
   "outputs": [],
   "source": [
    "#importing plotly and cufflinks in offline mode\n",
    "import cufflinks as cf\n",
    "import plotly.offline\n",
    "cf.go_offline()\n",
    "cf.set_config_file(offline=False, world_readable=True)\n",
    "import plotly.express as px\n",
    "import plotly.graph_objects as go"
   ]
  },
  {
   "cell_type": "code",
   "execution_count": null,
   "metadata": {},
   "outputs": [],
   "source": [
    "DATA_DIR = os.path.join(\"data\", \"argentina\")\n",
    "JSON_RESULTS = os.path.join(DATA_DIR, \"simulation_results.json\")"
   ]
  },
  {
   "cell_type": "markdown",
   "metadata": {},
   "source": [
    "# Generate data"
   ]
  },
  {
   "cell_type": "code",
   "execution_count": null,
   "metadata": {},
   "outputs": [],
   "source": [
    "import generate_databases\n",
    "generate_databases.store_all()"
   ]
  },
  {
   "cell_type": "code",
   "execution_count": null,
   "metadata": {},
   "outputs": [],
   "source": [
    "if not os.path.exists('simulation/simulation'):\n",
    "    !cd simulation && cmake -DCMAKE_BUILD_TYPE=Release . &&make -j8"
   ]
  },
  {
   "cell_type": "code",
   "execution_count": null,
   "metadata": {},
   "outputs": [],
   "source": [
    "!simulation/simulation \\\n",
    "    --days 300 \\\n",
    "    --population {os.path.join(DATA_DIR, \"fake_population_small\")} \\\n",
    "    --json {JSON_RESULTS} \\\n",
    "    --seed 0"
   ]
  },
  {
   "cell_type": "markdown",
   "metadata": {},
   "source": [
    "# Show results"
   ]
  },
  {
   "cell_type": "code",
   "execution_count": null,
   "metadata": {},
   "outputs": [],
   "source": [
    "with open(JSON_RESULTS) as f:\n",
    "  sim_res = json.load(f)\n",
    "sim_res = pd.DataFrame(sim_res)\n",
    "sim_res.head()"
   ]
  },
  {
   "cell_type": "code",
   "execution_count": null,
   "metadata": {},
   "outputs": [],
   "source": [
    "states = [\"DEAD\", \"EXPOSED\", \"INFECTED_1\", \"INFECTED_2\", \"INFECTED_3\", \"RECOVERED\", \"SUSCEPTIBLE\"]"
   ]
  },
  {
   "cell_type": "code",
   "execution_count": null,
   "metadata": {},
   "outputs": [],
   "source": [
    "fig = go.Figure()\n",
    "for st in states:\n",
    "    fig.add_trace(go.Scatter(x=sim_res[\"day\"], y=sim_res[st], name=st))\n",
    "                         #line=dict(color='firebrick', width=4)))# dash options include 'dash', 'dot', and 'dashdot'\n",
    "\n",
    "\n",
    "# Edit the layout\n",
    "fig.update_layout(title='Asdk',\n",
    "                   xaxis_title='Día',\n",
    "                   yaxis_title='Número de personas')\n",
    "\n",
    "\n",
    "fig.show()"
   ]
  },
  {
   "cell_type": "code",
   "execution_count": null,
   "metadata": {},
   "outputs": [],
   "source": [
    "inf_sources = [\n",
    "    \"HOME_CONTACT\",\n",
    "    \"SCHOOL_CONTACT\",\n",
    "    \"WORK_CONTACT\",\n",
    "    \"NEIGHBOURHOOD_CONTACT\",\n",
    "    \"INTER_NEIGHBOURHOOD_CONTACT\",\n",
    "    \"IMPORTED_CASE\"\n",
    "]"
   ]
  },
  {
   "cell_type": "code",
   "execution_count": null,
   "metadata": {},
   "outputs": [],
   "source": [
    "fig = go.Figure()\n",
    "for st in inf_sources:\n",
    "    fig.add_trace(go.Scatter(x=sim_res[\"day\"], y=sim_res[st], name=st))\n",
    "                         #line=dict(color='firebrick', width=4)))# dash options include 'dash', 'dot', and 'dashdot'\n",
    "\n",
    "\n",
    "# Edit the layout\n",
    "fig.update_layout(title='Fuente de infecciones',\n",
    "                   xaxis_title='Día',\n",
    "                   yaxis_title='Número de personas')\n",
    "\n",
    "\n",
    "fig.show()"
   ]
  },
  {
   "cell_type": "code",
   "execution_count": null,
   "metadata": {},
   "outputs": [],
   "source": []
  }
 ],
 "metadata": {
  "kernelspec": {
   "display_name": "env",
   "language": "python",
   "name": "env"
  },
  "language_info": {
   "codemirror_mode": {
    "name": "ipython",
    "version": 3
   },
   "file_extension": ".py",
   "mimetype": "text/x-python",
   "name": "python",
   "nbconvert_exporter": "python",
   "pygments_lexer": "ipython3",
   "version": "3.7.5"
  }
 },
 "nbformat": 4,
 "nbformat_minor": 4
}
