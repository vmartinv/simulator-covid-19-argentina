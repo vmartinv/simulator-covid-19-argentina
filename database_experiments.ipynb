{
 "cells": [
  {
   "cell_type": "code",
   "execution_count": null,
   "metadata": {},
   "outputs": [],
   "source": [
    "import pandas as pd\n",
    "import geopandas as gpd\n",
    "from IPython.display import display\n",
    "import os\n",
    "import re\n",
    "import random\n",
    "import numpy as np\n",
    "import matplotlib.pyplot as plt\n",
    "import matplotlib as mpl\n",
    "from scipy.spatial import cKDTree\n",
    "mpl.rcParams['figure.dpi']= 300\n",
    "DATA_DIR = os.path.join('data', 'argentina')"
   ]
  },
  {
   "cell_type": "code",
   "execution_count": null,
   "metadata": {},
   "outputs": [],
   "source": [
    "#importing plotly and cufflinks in offline mode\n",
    "import cufflinks as cf\n",
    "import plotly.offline\n",
    "cf.go_offline()\n",
    "cf.set_config_file(offline=False, world_readable=True)"
   ]
  },
  {
   "cell_type": "code",
   "execution_count": null,
   "metadata": {},
   "outputs": [],
   "source": [
    "!jupyter nbextension enable --py --sys-prefix widgetsnbextension \n",
    "!jupyter nbextension enable --py --sys-prefix gmaps\n",
    "import gmaps\n",
    "import gmaps.datasets\n",
    "with open('google_maps_key.txt', 'r') as fapi:\n",
    "    gmaps.configure(api_key=fapi.read().strip())"
   ]
  },
  {
   "cell_type": "code",
   "execution_count": null,
   "metadata": {},
   "outputs": [],
   "source": [
    "from utils.utils import normalize_dpto_name, validate_dpto_indexes"
   ]
  },
  {
   "cell_type": "markdown",
   "metadata": {},
   "source": [
    "# Get all databases"
   ]
  },
  {
   "cell_type": "code",
   "execution_count": null,
   "metadata": {},
   "outputs": [],
   "source": [
    "import generate_databases\n",
    "generate_databases.store_all()"
   ]
  },
  {
   "cell_type": "markdown",
   "metadata": {},
   "source": [
    "# pxdpto geo test"
   ]
  },
  {
   "cell_type": "code",
   "execution_count": null,
   "metadata": {},
   "outputs": [],
   "source": [
    "PXLOC = os.path.join(DATA_DIR, 'indec', 'pxdptodatosok.shp')\n",
    "geodata = gpd.read_file(PXLOC, encoding='utf-8')\n",
    "from utils.utils import normalize_dpto_name, validate_dpto_indexes\n",
    "geodata['departamen'] = [normalize_dpto_name(n) for n in geodata['departamen']]\n",
    "geodata['link'] = [int(n) for n in geodata['link']]\n",
    "geodata"
   ]
  },
  {
   "cell_type": "code",
   "execution_count": null,
   "metadata": {},
   "outputs": [],
   "source": [
    "geodata[geodata['provincia']=='Salta']"
   ]
  },
  {
   "cell_type": "code",
   "execution_count": null,
   "metadata": {},
   "outputs": [],
   "source": [
    "geodata[geodata['provincia']=='Santa Fe'].groupby('departamen').mean()"
   ]
  },
  {
   "cell_type": "code",
   "execution_count": null,
   "metadata": {},
   "outputs": [],
   "source": [
    "geodata['geometry'][1]"
   ]
  },
  {
   "cell_type": "code",
   "execution_count": null,
   "metadata": {},
   "outputs": [],
   "source": [
    "print(geodata['geometry'][1].centroid)"
   ]
  },
  {
   "cell_type": "code",
   "execution_count": null,
   "metadata": {},
   "outputs": [],
   "source": [
    "# Store our latitude and longitude\n",
    "puntos = [[dpto.centroid.y, dpto.centroid.x] for dpto in geodata['geometry']]\n",
    "latitudes = [dpto.centroid.y for dpto in geodata['geometry']]\n",
    "longitudes = [dpto.centroid.x for dpto in geodata['geometry']]\n",
    "pesos = geodata['hogares']\n",
    "\n",
    "m = gmaps.Map()\n",
    "m.add_layer(gmaps.heatmap_layer(\n",
    "    puntos, weights=pesos,\n",
    "    max_intensity=float(max(pesos)), point_radius=10.0\n",
    "))\n",
    "m"
   ]
  },
  {
   "cell_type": "markdown",
   "metadata": {},
   "source": [
    "# Densidad"
   ]
  },
  {
   "cell_type": "code",
   "execution_count": null,
   "metadata": {},
   "outputs": [],
   "source": [
    "DENS_FILE = os.path.join(DATA_DIR, 'datosgobar-densidad-poblacion', 'pais.geojson')\n",
    "db_densidad = gpd.read_file(DENS_FILE, encoding='utf-8')\n",
    "db_densidad['area'] = pd.to_numeric(db_densidad['area'])\n",
    "db_densidad['poblacion'] = pd.to_numeric(db_densidad['poblacion'])\n",
    "db_densidad['viviendas'] = pd.to_numeric(db_densidad['viviendas'])\n",
    "db_densidad['hogares'] = db_densidad['hogares'].apply(lambda x: int(re.sub(r'(\\d+).0+', r'\\1', x)) if x else 0)\n",
    "print(db_densidad.crs)\n",
    "db_densidad"
   ]
  },
  {
   "cell_type": "code",
   "execution_count": null,
   "metadata": {},
   "outputs": [],
   "source": [
    "db_densidad['poblacion'].iplot(kind=\"histogram\", bins=100, theme=\"white\", title=\"Histograma de poblacion de secciones del pais\", xTitle='Poblacion', yTitle='Cant.')"
   ]
  },
  {
   "cell_type": "code",
   "execution_count": null,
   "metadata": {},
   "outputs": [],
   "source": [
    "np.sum(db_densidad['poblacion'])"
   ]
  },
  {
   "cell_type": "code",
   "execution_count": null,
   "metadata": {},
   "outputs": [],
   "source": [
    "f\"population: {np.sum(db_densidad['poblacion'])/1000:.0f}k\""
   ]
  },
  {
   "cell_type": "code",
   "execution_count": null,
   "metadata": {},
   "outputs": [],
   "source": [
    "_ = list(map(display, random.choices(db_densidad['geometry'], k=3)))"
   ]
  },
  {
   "cell_type": "code",
   "execution_count": null,
   "metadata": {},
   "outputs": [],
   "source": [
    "db_densidad[\"area\"].iplot(kind=\"histogram\", bins=10000, theme=\"white\", title=\"Histograma de areas de secciones del pais\", xTitle='Area', yTitle='Cant.')"
   ]
  },
  {
   "cell_type": "code",
   "execution_count": null,
   "metadata": {},
   "outputs": [],
   "source": [
    "db_densidad[\"densidad\"].iplot(kind=\"histogram\", bins=10000, theme=\"white\", title=\"Histograma de densidades de secciones del pais\", xTitle='Densidad', yTitle='Cant.')"
   ]
  },
  {
   "cell_type": "code",
   "execution_count": null,
   "metadata": {},
   "outputs": [],
   "source": [
    "diff=(set(map(int, db_densidad['dpto_id']))^set(map(int, geodata['link'])))\n",
    "diff"
   ]
  },
  {
   "cell_type": "code",
   "execution_count": null,
   "metadata": {},
   "outputs": [],
   "source": [
    "print(\"Missing deparments in density\")\n",
    "geodata.loc[geodata['link'].isin(diff)][['link', 'departamen', 'provincia']]"
   ]
  },
  {
   "cell_type": "code",
   "execution_count": null,
   "metadata": {},
   "outputs": [],
   "source": [
    "ax = db_densidad[db_densidad['dpto_id']=='82084'].plot(column='densidad', cmap='hot')\n",
    "ax.set_title('Densidad de secciones de Rosario')\n",
    "ax.set_xlim(-60.7, -60.6)\n",
    "ax.set_ylim(-33.0, -32.9)"
   ]
  },
  {
   "cell_type": "code",
   "execution_count": null,
   "metadata": {},
   "outputs": [],
   "source": [
    "ax = db_densidad[db_densidad['prov_id']=='82'].plot(column='densidad', cmap='hot')\n",
    "ax.set_title('Densidad de secciones de Santa Fe')\n",
    "ax"
   ]
  },
  {
   "cell_type": "code",
   "execution_count": null,
   "metadata": {},
   "outputs": [],
   "source": [
    "# Store our latitude and longitude\n",
    "puntos = [[dpto.centroid.y, dpto.centroid.x] for dpto in db_densidad['geometry']]\n",
    "pesos = db_densidad['hogares']\n",
    "\n",
    "m = gmaps.Map()\n",
    "m.add_layer(gmaps.heatmap_layer(\n",
    "    puntos, weights=pesos,\n",
    "    max_intensity=float(max(pesos)), point_radius=5.0\n",
    "))\n",
    "m"
   ]
  },
  {
   "cell_type": "markdown",
   "metadata": {},
   "source": [
    "# pxlocdatos"
   ]
  },
  {
   "cell_type": "code",
   "execution_count": null,
   "metadata": {},
   "outputs": [],
   "source": [
    "db_densidad.to_crs(epsg=4326,inplace=True)"
   ]
  },
  {
   "cell_type": "code",
   "execution_count": null,
   "metadata": {},
   "outputs": [],
   "source": [
    "densidad_datos = gpd.read_file(\n",
    "    os.path.join(DATA_DIR, 'datosgobar-densidad-poblacion', 'datos.geojson'), encoding='utf-8')\n",
    "densidad_datos"
   ]
  },
  {
   "cell_type": "code",
   "execution_count": null,
   "metadata": {},
   "outputs": [],
   "source": [
    "pxlocdatos = gpd.read_file(os.path.join(DATA_DIR, 'indec', 'pxlocdatos.shp'), encoding='utf-8')\n",
    "# pxlocdatos['departamen'] = [normalize_dpto_name(n) for n in pxlocdatos['departamen']]\n",
    "# pxlocdatos['link'] = [int(n) for n in pxlocdatos['link']]\n",
    "pxlocdatos"
   ]
  },
  {
   "cell_type": "code",
   "execution_count": null,
   "metadata": {},
   "outputs": [],
   "source": []
  },
  {
   "cell_type": "code",
   "execution_count": null,
   "metadata": {},
   "outputs": [],
   "source": [
    "pxlocdatos.crs = db_densidad.crs"
   ]
  },
  {
   "cell_type": "code",
   "execution_count": null,
   "metadata": {},
   "outputs": [],
   "source": [
    "joined = gpd.tools.sjoin(pxlocdatos,db_densidad,how=\"left\")\n",
    "joined"
   ]
  },
  {
   "cell_type": "markdown",
   "metadata": {},
   "source": [
    "# Distancias entre secciones"
   ]
  },
  {
   "cell_type": "code",
   "execution_count": null,
   "metadata": {},
   "outputs": [],
   "source": [
    "#https://www.eye4software.com/hydromagic/documentation/supported-map-grids/Argentina\n",
    "# proyeccion para argentina\n",
    "db_densidad.to_crs(epsg=5349,inplace=True)"
   ]
  },
  {
   "cell_type": "code",
   "execution_count": null,
   "metadata": {},
   "outputs": [],
   "source": [
    "santafe = db_densidad[db_densidad['dpto_id']=='82063']['geometry'].iloc[0].centroid\n",
    "rosario = db_densidad[db_densidad['dpto_id']=='82084']['geometry'].iloc[0].centroid\n",
    "f\"{rosario.distance(santafe)/1000:.0f} km\""
   ]
  },
  {
   "cell_type": "code",
   "execution_count": null,
   "metadata": {},
   "outputs": [],
   "source": [
    "upper_bound=3000\n",
    "centroids = np.array(list(zip(db_densidad.geometry.centroid.x, db_densidad.geometry.centroid.y)))\n",
    "btree = cKDTree(centroids)\n",
    "dist, idx = btree.query(centroids, k=2000, distance_upper_bound=upper_bound)"
   ]
  },
  {
   "cell_type": "code",
   "execution_count": null,
   "metadata": {},
   "outputs": [],
   "source": [
    "nearests_count = pd.DataFrame([sum(1 for d in plist if d>1e-9 and d<upper_bound) for plist in dist])\n",
    "nearests_count.iplot(kind=\"histogram\", bins=100, theme=\"white\", title=f\"Histograma de cantidad de secciones vecinas a menos de {upper_bound/1000:.0f} km\", xTitle='Cantidad de zonas cercanas', yTitle='Cant. de zonas con esa cantidad de zonas cercanas')"
   ]
  },
  {
   "cell_type": "code",
   "execution_count": null,
   "metadata": {},
   "outputs": [],
   "source": [
    "sum(nearests_count)"
   ]
  },
  {
   "cell_type": "markdown",
   "metadata": {},
   "source": [
    "# Ministerio educacion database"
   ]
  },
  {
   "cell_type": "code",
   "execution_count": null,
   "metadata": {},
   "outputs": [],
   "source": [
    "pd.options.display.max_columns = None\n",
    "SCHOOL_HDF = os.path.join(DATA_DIR, 'ministerio-educacion', 'matricula_y_secciones.hdf')\n",
    "schooldb = pd.read_hdf(SCHOOL_HDF, 'matricula_y_secciones')\n",
    "schooldb = schooldb.replace(to_replace=\"Ciudad de Buenos Aires\", value=\"Ciudad Autónoma de Buenos Aires\")\n",
    "schooldb"
   ]
  },
  {
   "cell_type": "code",
   "execution_count": null,
   "metadata": {},
   "outputs": [],
   "source": [
    "count_cols = list(filter(lambda s: s.startswith('Alumnos con Sobreedad') or s.startswith('Repitentes') or s.startswith('Matrícula.'), schooldb.columns))"
   ]
  },
  {
   "cell_type": "code",
   "execution_count": null,
   "metadata": {},
   "outputs": [],
   "source": [
    "schooldb['total_alumnos'] = schooldb.loc[:,count_cols].sum(axis=1)"
   ]
  },
  {
   "cell_type": "code",
   "execution_count": null,
   "metadata": {},
   "outputs": [],
   "source": [
    "pd.options.display.max_columns = None\n",
    "SCHOOL_HDF = os.path.join(DATA_DIR, 'ministerio-educacion', 'matricula_por_edad.hdf')\n",
    "schooldb = pd.read_hdf(SCHOOL_HDF, 'matricula_por_edad')\n",
    "schooldb"
   ]
  },
  {
   "cell_type": "code",
   "execution_count": null,
   "metadata": {},
   "outputs": [],
   "source": [
    "count_cols = list(filter(lambda s: 'años' in s, schooldb.columns))"
   ]
  },
  {
   "cell_type": "code",
   "execution_count": null,
   "metadata": {},
   "outputs": [],
   "source": [
    "schooldb['total_alumnos'] = schooldb[count_cols].sum(axis=1)"
   ]
  },
  {
   "cell_type": "code",
   "execution_count": null,
   "metadata": {},
   "outputs": [],
   "source": [
    "graph = schooldb[schooldb['Ámbito'] == 'Rural']['total_alumnos']\n",
    "print(f\"Escuelas rurales {len(graph)}\")\n",
    "graph.iplot(kind=\"histogram\", bins=1000, theme=\"white\", title=\"Histograma de cantidad de alumnos por escuela, rurales\", xTitle='Cantidad de alumnos', yTitle='Cant.')"
   ]
  },
  {
   "cell_type": "code",
   "execution_count": null,
   "metadata": {},
   "outputs": [],
   "source": [
    "graph = schooldb[(schooldb['Ámbito'] == 'Urbano') & (schooldb['total_alumnos']<800)]['total_alumnos']\n",
    "print(f\"Escuelas urbanas {len(graph)}\")\n",
    "graph.iplot(kind=\"histogram\", bins=1000, theme=\"white\", title=\"Histograma de cantidad de alumnos por escuela, urbanas\", xTitle='Cantidad de alumnos', yTitle='Cant.')"
   ]
  },
  {
   "cell_type": "markdown",
   "metadata": {},
   "source": [
    "# TDMA\n",
    "Transito medio diario argentina"
   ]
  },
  {
   "cell_type": "code",
   "execution_count": null,
   "metadata": {},
   "outputs": [],
   "source": [
    "tdma = gpd.read_file(os.path.join(DATA_DIR, 'transporte', 'tdma2017.geojson'), encoding='utf-8')\n",
    "tdma"
   ]
  },
  {
   "cell_type": "code",
   "execution_count": null,
   "metadata": {},
   "outputs": [],
   "source": [
    "ax = tdma.plot(column='valor', cmap='hot')\n",
    "ax.set_title('TDMA Argentina')\n",
    "#ax.set_xlim(-60.7, -60.6)\n",
    "#ax.set_ylim(-33.0, -32.9)"
   ]
  },
  {
   "cell_type": "markdown",
   "metadata": {},
   "source": [
    "# Buses interburbano"
   ]
  },
  {
   "cell_type": "code",
   "execution_count": null,
   "metadata": {},
   "outputs": [],
   "source": []
  }
 ],
 "metadata": {
  "kernelspec": {
   "display_name": "Python 3",
   "language": "python",
   "name": "python3"
  },
  "language_info": {
   "codemirror_mode": {
    "name": "ipython",
    "version": 3
   },
   "file_extension": ".py",
   "mimetype": "text/x-python",
   "name": "python",
   "nbconvert_exporter": "python",
   "pygments_lexer": "ipython3",
   "version": "3.8.2"
  }
 },
 "nbformat": 4,
 "nbformat_minor": 4
}
