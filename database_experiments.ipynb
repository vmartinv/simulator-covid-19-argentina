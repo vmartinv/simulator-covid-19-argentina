{
 "cells": [
  {
   "cell_type": "code",
   "execution_count": 5,
   "metadata": {},
   "outputs": [],
   "source": [
    "import pandas as pd\n",
    "import geopandas as gpd\n",
    "from IPython.display import display\n",
    "import os\n",
    "import re\n",
    "import random\n",
    "import numpy as np\n",
    "import matplotlib.pyplot as plt\n",
    "import matplotlib as mpl\n",
    "from scipy.spatial import cKDTree\n",
    "mpl.rcParams['figure.dpi']= 300\n",
    "DATA_DIR = os.path.join('data', 'argentina')"
   ]
  },
  {
   "cell_type": "code",
   "execution_count": 2,
   "metadata": {},
   "outputs": [
    {
     "data": {
      "text/html": [
       "        <script type=\"text/javascript\">\n",
       "        window.PlotlyConfig = {MathJaxConfig: 'local'};\n",
       "        if (window.MathJax) {MathJax.Hub.Config({SVG: {font: \"STIX-Web\"}});}\n",
       "        if (typeof require !== 'undefined') {\n",
       "        require.undef(\"plotly\");\n",
       "        requirejs.config({\n",
       "            paths: {\n",
       "                'plotly': ['https://cdn.plot.ly/plotly-latest.min']\n",
       "            }\n",
       "        });\n",
       "        require(['plotly'], function(Plotly) {\n",
       "            window._Plotly = Plotly;\n",
       "        });\n",
       "        }\n",
       "        </script>\n",
       "        "
      ]
     },
     "metadata": {},
     "output_type": "display_data"
    }
   ],
   "source": [
    "#importing plotly and cufflinks in offline mode\n",
    "import cufflinks as cf\n",
    "import plotly.offline\n",
    "cf.go_offline()\n",
    "cf.set_config_file(offline=False, world_readable=True)"
   ]
  },
  {
   "cell_type": "code",
   "execution_count": 3,
   "metadata": {},
   "outputs": [],
   "source": [
    "import gmaps\n",
    "import gmaps.datasets\n",
    "with open('google_maps_key.txt', 'r') as fapi:\n",
    "    gmaps.configure(api_key=fapi.read().strip())"
   ]
  },
  {
   "cell_type": "code",
   "execution_count": 4,
   "metadata": {},
   "outputs": [],
   "source": [
    "from gen_dbs.utils.utils import normalize_dpto_name, validate_dpto_indexes"
   ]
  },
  {
   "cell_type": "markdown",
   "metadata": {},
   "source": [
    "# Get all databases"
   ]
  },
  {
   "cell_type": "code",
   "execution_count": 8,
   "metadata": {},
   "outputs": [
    {
     "name": "stdout",
     "output_type": "stream",
     "text": [
      "Downloading data/argentina/covid19ardata.csv...\r\n"
     ]
    }
   ],
   "source": [
    "!gen_dbs/generate_databases.py"
   ]
  },
  {
   "cell_type": "markdown",
   "metadata": {},
   "source": [
    "# pxdpto geo test"
   ]
  },
  {
   "cell_type": "code",
   "execution_count": null,
   "metadata": {},
   "outputs": [],
   "source": [
    "PXLOC = os.path.join(DATA_DIR, 'indec', 'pxdptodatosok.shp')\n",
    "geodata = gpd.read_file(PXLOC, encoding='utf-8')\n",
    "from gen_dbs.utils.utils import normalize_dpto_name, validate_dpto_indexes\n",
    "geodata['departamen'] = [normalize_dpto_name(n) for n in geodata['departamen']]\n",
    "geodata['link'] = [int(n) for n in geodata['link']]\n",
    "geodata"
   ]
  },
  {
   "cell_type": "code",
   "execution_count": null,
   "metadata": {},
   "outputs": [],
   "source": [
    "geodata[geodata['provincia']=='Salta']"
   ]
  },
  {
   "cell_type": "code",
   "execution_count": null,
   "metadata": {},
   "outputs": [],
   "source": [
    "geodata[geodata['provincia']=='Santa Fe'].groupby('departamen').mean()"
   ]
  },
  {
   "cell_type": "code",
   "execution_count": null,
   "metadata": {},
   "outputs": [],
   "source": [
    "geodata['geometry'][1]"
   ]
  },
  {
   "cell_type": "code",
   "execution_count": null,
   "metadata": {},
   "outputs": [],
   "source": [
    "print(geodata['geometry'][1].centroid)"
   ]
  },
  {
   "cell_type": "code",
   "execution_count": null,
   "metadata": {},
   "outputs": [],
   "source": [
    "# Store our latitude and longitude\n",
    "puntos = [[dpto.centroid.y, dpto.centroid.x] for dpto in geodata['geometry']]\n",
    "latitudes = [dpto.centroid.y for dpto in geodata['geometry']]\n",
    "longitudes = [dpto.centroid.x for dpto in geodata['geometry']]\n",
    "pesos = geodata['hogares']\n",
    "\n",
    "m = gmaps.Map()\n",
    "m.add_layer(gmaps.heatmap_layer(\n",
    "    puntos, weights=pesos,\n",
    "    max_intensity=float(max(pesos)), point_radius=10.0\n",
    "))\n",
    "m"
   ]
  },
  {
   "cell_type": "markdown",
   "metadata": {},
   "source": [
    "# Densidad"
   ]
  },
  {
   "cell_type": "code",
   "execution_count": null,
   "metadata": {},
   "outputs": [],
   "source": [
    "DENS_FILE = os.path.join(DATA_DIR, 'datosgobar-densidad-poblacion', 'pais.geojson')\n",
    "db_densidad = gpd.read_file(DENS_FILE, encoding='utf-8')\n",
    "db_densidad['area'] = pd.to_numeric(db_densidad['area'])\n",
    "db_densidad['poblacion'] = pd.to_numeric(db_densidad['poblacion'])\n",
    "db_densidad['viviendas'] = pd.to_numeric(db_densidad['viviendas'])\n",
    "db_densidad['hogares'] = db_densidad['hogares'].apply(lambda x: int(re.sub(r'(\\d+).0+', r'\\1', x)) if x else 0)\n",
    "print(db_densidad.crs)\n",
    "db_densidad"
   ]
  },
  {
   "cell_type": "code",
   "execution_count": null,
   "metadata": {},
   "outputs": [],
   "source": [
    "db_densidad['poblacion'].iplot(kind=\"histogram\", bins=100, theme=\"white\", title=\"Histograma de poblacion de secciones del pais\", xTitle='Poblacion', yTitle='Cant.')"
   ]
  },
  {
   "cell_type": "code",
   "execution_count": null,
   "metadata": {},
   "outputs": [],
   "source": [
    "np.sum(db_densidad['poblacion'])"
   ]
  },
  {
   "cell_type": "code",
   "execution_count": null,
   "metadata": {},
   "outputs": [],
   "source": [
    "f\"population: {np.sum(db_densidad['poblacion'])/1000:.0f}k\""
   ]
  },
  {
   "cell_type": "code",
   "execution_count": null,
   "metadata": {},
   "outputs": [],
   "source": [
    "_ = list(map(display, random.choices(db_densidad['geometry'], k=3)))"
   ]
  },
  {
   "cell_type": "code",
   "execution_count": null,
   "metadata": {},
   "outputs": [],
   "source": [
    "db_densidad[\"area\"].iplot(kind=\"histogram\", bins=10000, theme=\"white\", title=\"Histograma de areas de secciones del pais\", xTitle='Area', yTitle='Cant.')"
   ]
  },
  {
   "cell_type": "code",
   "execution_count": null,
   "metadata": {},
   "outputs": [],
   "source": [
    "db_densidad[\"densidad\"].iplot(kind=\"histogram\", bins=10000, theme=\"white\", title=\"Histograma de densidades de secciones del pais\", xTitle='Densidad', yTitle='Cant.')"
   ]
  },
  {
   "cell_type": "code",
   "execution_count": null,
   "metadata": {},
   "outputs": [],
   "source": [
    "diff=(set(map(int, db_densidad['dpto_id']))^set(map(int, geodata['link'])))\n",
    "diff"
   ]
  },
  {
   "cell_type": "code",
   "execution_count": null,
   "metadata": {},
   "outputs": [],
   "source": [
    "print(\"Missing deparments in density\")\n",
    "geodata.loc[geodata['link'].isin(diff)][['link', 'departamen', 'provincia']]"
   ]
  },
  {
   "cell_type": "code",
   "execution_count": null,
   "metadata": {},
   "outputs": [],
   "source": [
    "ax = db_densidad[db_densidad['dpto_id']=='82084'].plot(column='densidad', cmap='hot')\n",
    "ax.set_title('Densidad de secciones de Rosario')\n",
    "ax.set_xlim(-60.7, -60.6)\n",
    "ax.set_ylim(-33.0, -32.9)"
   ]
  },
  {
   "cell_type": "code",
   "execution_count": null,
   "metadata": {},
   "outputs": [],
   "source": [
    "ax = db_densidad[db_densidad['prov_id']=='82'].plot(column='densidad', cmap='hot')\n",
    "ax.set_title('Densidad de secciones de Santa Fe')\n",
    "ax"
   ]
  },
  {
   "cell_type": "code",
   "execution_count": null,
   "metadata": {},
   "outputs": [],
   "source": [
    "# Store our latitude and longitude\n",
    "puntos = [[dpto.centroid.y, dpto.centroid.x] for dpto in db_densidad['geometry']]\n",
    "pesos = db_densidad['hogares']\n",
    "\n",
    "m = gmaps.Map()\n",
    "m.add_layer(gmaps.heatmap_layer(\n",
    "    puntos, weights=pesos,\n",
    "    max_intensity=float(max(pesos)), point_radius=5.0\n",
    "))\n",
    "m"
   ]
  },
  {
   "cell_type": "code",
   "execution_count": null,
   "metadata": {},
   "outputs": [],
   "source": [
    "asdf = db_densidad.groupby('dpto_id')[['poblacion', 'area']].sum().reset_index()\n",
    "asdf['density'] = asdf['poblacion']/asdf['area']\n",
    "asdf[asdf['dpto_id']=='02001']['density'][0]"
   ]
  },
  {
   "cell_type": "markdown",
   "metadata": {},
   "source": [
    "# pxlocdatos"
   ]
  },
  {
   "cell_type": "code",
   "execution_count": null,
   "metadata": {},
   "outputs": [],
   "source": [
    "db_densidad.to_crs(epsg=4326,inplace=True)"
   ]
  },
  {
   "cell_type": "code",
   "execution_count": null,
   "metadata": {},
   "outputs": [],
   "source": [
    "densidad_datos = gpd.read_file(\n",
    "    os.path.join(DATA_DIR, 'datosgobar-densidad-poblacion', 'datos.geojson'), encoding='utf-8')\n",
    "densidad_datos"
   ]
  },
  {
   "cell_type": "code",
   "execution_count": null,
   "metadata": {},
   "outputs": [],
   "source": [
    "pxlocdatos = gpd.read_file(os.path.join(DATA_DIR, 'indec', 'pxlocdatos.shp'), encoding='utf-8')\n",
    "# pxlocdatos['departamen'] = [normalize_dpto_name(n) for n in pxlocdatos['departamen']]\n",
    "# pxlocdatos['link'] = [int(n) for n in pxlocdatos['link']]\n",
    "pxlocdatos"
   ]
  },
  {
   "cell_type": "code",
   "execution_count": null,
   "metadata": {},
   "outputs": [],
   "source": []
  },
  {
   "cell_type": "code",
   "execution_count": null,
   "metadata": {},
   "outputs": [],
   "source": [
    "pxlocdatos.crs = db_densidad.crs"
   ]
  },
  {
   "cell_type": "code",
   "execution_count": null,
   "metadata": {},
   "outputs": [],
   "source": [
    "joined = gpd.tools.sjoin(pxlocdatos,db_densidad,how=\"left\")\n",
    "joined"
   ]
  },
  {
   "cell_type": "markdown",
   "metadata": {},
   "source": [
    "# Distancias entre secciones"
   ]
  },
  {
   "cell_type": "code",
   "execution_count": null,
   "metadata": {},
   "outputs": [],
   "source": [
    "#https://www.eye4software.com/hydromagic/documentation/supported-map-grids/Argentina\n",
    "# proyeccion para argentina\n",
    "db_densidad.to_crs(epsg=5349,inplace=True)"
   ]
  },
  {
   "cell_type": "code",
   "execution_count": null,
   "metadata": {},
   "outputs": [],
   "source": [
    "santafe = db_densidad[db_densidad['dpto_id']=='82063']['geometry'].iloc[0].centroid\n",
    "rosario = db_densidad[db_densidad['dpto_id']=='82084']['geometry'].iloc[0].centroid\n",
    "f\"{rosario.distance(santafe)/1000:.0f} km\""
   ]
  },
  {
   "cell_type": "code",
   "execution_count": null,
   "metadata": {},
   "outputs": [],
   "source": [
    "upper_bound=3000\n",
    "centroids = np.array(list(zip(db_densidad.geometry.centroid.x, db_densidad.geometry.centroid.y)))\n",
    "btree = cKDTree(centroids)\n",
    "dist, idx = btree.query(centroids, k=2000, distance_upper_bound=upper_bound)"
   ]
  },
  {
   "cell_type": "code",
   "execution_count": null,
   "metadata": {},
   "outputs": [],
   "source": [
    "nearests_count = pd.DataFrame([sum(1 for d in plist if d>1e-9 and d<upper_bound) for plist in dist])\n",
    "nearests_count.iplot(kind=\"histogram\", bins=100, theme=\"white\", title=f\"Histograma de cantidad de secciones vecinas a menos de {upper_bound/1000:.0f} km\", xTitle='Cantidad de zonas cercanas', yTitle='Cant. de zonas con esa cantidad de zonas cercanas')"
   ]
  },
  {
   "cell_type": "code",
   "execution_count": null,
   "metadata": {},
   "outputs": [],
   "source": [
    "sum(nearests_count)"
   ]
  },
  {
   "cell_type": "markdown",
   "metadata": {},
   "source": [
    "# Ministerio educacion database"
   ]
  },
  {
   "cell_type": "code",
   "execution_count": null,
   "metadata": {},
   "outputs": [],
   "source": [
    "pd.options.display.max_columns = None\n",
    "SCHOOL_HDF = os.path.join(DATA_DIR, 'ministerio-educacion', 'matricula_y_secciones.hdf')\n",
    "schooldb = pd.read_hdf(SCHOOL_HDF, 'matricula_y_secciones')\n",
    "schooldb = schooldb.replace(to_replace=\"Ciudad de Buenos Aires\", value=\"Ciudad Autónoma de Buenos Aires\")\n",
    "schooldb"
   ]
  },
  {
   "cell_type": "code",
   "execution_count": null,
   "metadata": {},
   "outputs": [],
   "source": [
    "count_cols = list(filter(lambda s: s.startswith('Alumnos con Sobreedad') or s.startswith('Repitentes') or s.startswith('Matrícula.'), schooldb.columns))"
   ]
  },
  {
   "cell_type": "code",
   "execution_count": null,
   "metadata": {},
   "outputs": [],
   "source": [
    "schooldb['total_alumnos'] = schooldb.loc[:,count_cols].sum(axis=1)"
   ]
  },
  {
   "cell_type": "code",
   "execution_count": null,
   "metadata": {},
   "outputs": [],
   "source": [
    "pd.options.display.max_columns = None\n",
    "SCHOOL_HDF = os.path.join(DATA_DIR, 'ministerio-educacion', 'matricula_por_edad.hdf')\n",
    "schooldb = pd.read_hdf(SCHOOL_HDF, 'matricula_por_edad')\n",
    "schooldb"
   ]
  },
  {
   "cell_type": "code",
   "execution_count": null,
   "metadata": {},
   "outputs": [],
   "source": [
    "count_cols = list(filter(lambda s: 'años' in s, schooldb.columns))"
   ]
  },
  {
   "cell_type": "code",
   "execution_count": null,
   "metadata": {},
   "outputs": [],
   "source": [
    "schooldb['total_alumnos'] = schooldb[count_cols].sum(axis=1)"
   ]
  },
  {
   "cell_type": "code",
   "execution_count": null,
   "metadata": {},
   "outputs": [],
   "source": [
    "graph = schooldb[schooldb['Ámbito'] == 'Rural']['total_alumnos']\n",
    "print(f\"Escuelas rurales {len(graph)}\")\n",
    "graph.iplot(kind=\"histogram\", bins=1000, theme=\"white\", title=\"Histograma de cantidad de alumnos por escuela, rurales\", xTitle='Cantidad de alumnos', yTitle='Cant.')"
   ]
  },
  {
   "cell_type": "code",
   "execution_count": null,
   "metadata": {},
   "outputs": [],
   "source": [
    "graph = schooldb[(schooldb['Ámbito'] == 'Urbano') & (schooldb['total_alumnos']<800)]['total_alumnos']\n",
    "print(f\"Escuelas urbanas {len(graph)}\")\n",
    "graph.iplot(kind=\"histogram\", bins=1000, theme=\"white\", title=\"Histograma de cantidad de alumnos por escuela, urbanas\", xTitle='Cantidad de alumnos', yTitle='Cant.')"
   ]
  },
  {
   "cell_type": "markdown",
   "metadata": {},
   "source": [
    "# TDMA\n",
    "Transito medio diario argentina"
   ]
  },
  {
   "cell_type": "code",
   "execution_count": null,
   "metadata": {},
   "outputs": [],
   "source": [
    "tdma = gpd.read_file(os.path.join(DATA_DIR, 'transporte', 'tdma2017.geojson'), encoding='utf-8')\n",
    "tdma"
   ]
  },
  {
   "cell_type": "code",
   "execution_count": null,
   "metadata": {},
   "outputs": [],
   "source": [
    "ax = tdma.plot(column='valor', cmap='hot')\n",
    "ax.set_title('TDMA Argentina')\n",
    "#ax.set_xlim(-60.7, -60.6)\n",
    "#ax.set_ylim(-33.0, -32.9)"
   ]
  },
  {
   "cell_type": "markdown",
   "metadata": {},
   "source": [
    "# Buses interburbano"
   ]
  },
  {
   "cell_type": "code",
   "execution_count": null,
   "metadata": {},
   "outputs": [],
   "source": [
    "#"
   ]
  },
  {
   "cell_type": "code",
   "execution_count": 6,
   "metadata": {},
   "outputs": [],
   "source": [
    "import pandas as pd\n",
    "url = 'https://docs.google.com/spreadsheets/d/16-bnsDdmmgtSxdWbVMboIHo5FRuz76DBxsz_BbsEVWA/export?format=csv&id=16-bnsDdmmgtSxdWbVMboIHo5FRuz76DBxsz_BbsEVWA&gid=0'\n",
    "df = pd.read_csv(url)"
   ]
  },
  {
   "cell_type": "code",
   "execution_count": 7,
   "metadata": {},
   "outputs": [
    {
     "data": {
      "text/html": [
       "<div>\n",
       "<style scoped>\n",
       "    .dataframe tbody tr th:only-of-type {\n",
       "        vertical-align: middle;\n",
       "    }\n",
       "\n",
       "    .dataframe tbody tr th {\n",
       "        vertical-align: top;\n",
       "    }\n",
       "\n",
       "    .dataframe thead th {\n",
       "        text-align: right;\n",
       "    }\n",
       "</style>\n",
       "<table border=\"1\" class=\"dataframe\">\n",
       "  <thead>\n",
       "    <tr style=\"text-align: right;\">\n",
       "      <th></th>\n",
       "      <th>fecha</th>\n",
       "      <th>dia_inicio</th>\n",
       "      <th>dia_cuarentena_dnu260</th>\n",
       "      <th>osm_admin_level_2</th>\n",
       "      <th>osm_admin_level_4</th>\n",
       "      <th>osm_admin_level_8</th>\n",
       "      <th>tot_casosconf</th>\n",
       "      <th>nue_casosconf_diff</th>\n",
       "      <th>tot_fallecidos</th>\n",
       "      <th>nue_fallecidos_diff</th>\n",
       "      <th>tot_recuperados</th>\n",
       "      <th>tot_terapia</th>\n",
       "      <th>test_RT-PCR_negativos</th>\n",
       "      <th>test_RT-PCR_total</th>\n",
       "      <th>transmision_tipo</th>\n",
       "      <th>informe_tipo</th>\n",
       "      <th>informe_link</th>\n",
       "      <th>observacion</th>\n",
       "      <th>covid19argentina_admin_level_4</th>\n",
       "    </tr>\n",
       "  </thead>\n",
       "  <tbody>\n",
       "    <tr>\n",
       "      <th>0</th>\n",
       "      <td>2/03/2020</td>\n",
       "      <td>1</td>\n",
       "      <td>NaN</td>\n",
       "      <td>Argentina</td>\n",
       "      <td>CABA</td>\n",
       "      <td>NaN</td>\n",
       "      <td>1</td>\n",
       "      <td>1</td>\n",
       "      <td>0</td>\n",
       "      <td>0</td>\n",
       "      <td>NaN</td>\n",
       "      <td>NaN</td>\n",
       "      <td>NaN</td>\n",
       "      <td>NaN</td>\n",
       "      <td>importado</td>\n",
       "      <td>NaN</td>\n",
       "      <td>https://www.infobae.com/coronavirus/2020/03/03...</td>\n",
       "      <td>no hay informe</td>\n",
       "      <td>capital-federal</td>\n",
       "    </tr>\n",
       "    <tr>\n",
       "      <th>1</th>\n",
       "      <td>3/03/2020</td>\n",
       "      <td>2</td>\n",
       "      <td>NaN</td>\n",
       "      <td>Argentina</td>\n",
       "      <td>Indeterminado</td>\n",
       "      <td>NaN</td>\n",
       "      <td>1</td>\n",
       "      <td>0</td>\n",
       "      <td>0</td>\n",
       "      <td>0</td>\n",
       "      <td>NaN</td>\n",
       "      <td>NaN</td>\n",
       "      <td>NaN</td>\n",
       "      <td>NaN</td>\n",
       "      <td>importado</td>\n",
       "      <td>NaN</td>\n",
       "      <td>NaN</td>\n",
       "      <td>no hay informe</td>\n",
       "      <td>no-data</td>\n",
       "    </tr>\n",
       "    <tr>\n",
       "      <th>2</th>\n",
       "      <td>4/03/2020</td>\n",
       "      <td>3</td>\n",
       "      <td>NaN</td>\n",
       "      <td>Argentina</td>\n",
       "      <td>Indeterminado</td>\n",
       "      <td>NaN</td>\n",
       "      <td>1</td>\n",
       "      <td>0</td>\n",
       "      <td>0</td>\n",
       "      <td>0</td>\n",
       "      <td>NaN</td>\n",
       "      <td>NaN</td>\n",
       "      <td>NaN</td>\n",
       "      <td>NaN</td>\n",
       "      <td>importado</td>\n",
       "      <td>NaN</td>\n",
       "      <td>NaN</td>\n",
       "      <td>no hay informe</td>\n",
       "      <td>no-data</td>\n",
       "    </tr>\n",
       "    <tr>\n",
       "      <th>3</th>\n",
       "      <td>5/03/2020</td>\n",
       "      <td>4</td>\n",
       "      <td>NaN</td>\n",
       "      <td>Argentina</td>\n",
       "      <td>Buenos Aires</td>\n",
       "      <td>NaN</td>\n",
       "      <td>2</td>\n",
       "      <td>1</td>\n",
       "      <td>2</td>\n",
       "      <td>2</td>\n",
       "      <td>NaN</td>\n",
       "      <td>NaN</td>\n",
       "      <td>NaN</td>\n",
       "      <td>NaN</td>\n",
       "      <td>importado</td>\n",
       "      <td>informe nacional</td>\n",
       "      <td>https://www.argentina.gob.ar/sites/default/fil...</td>\n",
       "      <td>NaN</td>\n",
       "      <td>buenos-aires</td>\n",
       "    </tr>\n",
       "    <tr>\n",
       "      <th>4</th>\n",
       "      <td>6/03/2020</td>\n",
       "      <td>5</td>\n",
       "      <td>NaN</td>\n",
       "      <td>Argentina</td>\n",
       "      <td>Indeterminado</td>\n",
       "      <td>NaN</td>\n",
       "      <td>2</td>\n",
       "      <td>0</td>\n",
       "      <td>2</td>\n",
       "      <td>0</td>\n",
       "      <td>NaN</td>\n",
       "      <td>NaN</td>\n",
       "      <td>NaN</td>\n",
       "      <td>NaN</td>\n",
       "      <td>importado</td>\n",
       "      <td>informe nacional</td>\n",
       "      <td>https://www.argentina.gob.ar/sites/default/fil...</td>\n",
       "      <td>NaN</td>\n",
       "      <td>no-data</td>\n",
       "    </tr>\n",
       "    <tr>\n",
       "      <th>...</th>\n",
       "      <td>...</td>\n",
       "      <td>...</td>\n",
       "      <td>...</td>\n",
       "      <td>...</td>\n",
       "      <td>...</td>\n",
       "      <td>...</td>\n",
       "      <td>...</td>\n",
       "      <td>...</td>\n",
       "      <td>...</td>\n",
       "      <td>...</td>\n",
       "      <td>...</td>\n",
       "      <td>...</td>\n",
       "      <td>...</td>\n",
       "      <td>...</td>\n",
       "      <td>...</td>\n",
       "      <td>...</td>\n",
       "      <td>...</td>\n",
       "      <td>...</td>\n",
       "      <td>...</td>\n",
       "    </tr>\n",
       "    <tr>\n",
       "      <th>3437</th>\n",
       "      <td>5/09/2020</td>\n",
       "      <td>185</td>\n",
       "      <td>169.0</td>\n",
       "      <td>Argentina</td>\n",
       "      <td>Santa Fe</td>\n",
       "      <td>NaN</td>\n",
       "      <td>471408</td>\n",
       "      <td>698</td>\n",
       "      <td>9733</td>\n",
       "      <td>6</td>\n",
       "      <td>NaN</td>\n",
       "      <td>NaN</td>\n",
       "      <td>NaN</td>\n",
       "      <td>NaN</td>\n",
       "      <td>NaN</td>\n",
       "      <td>NaN</td>\n",
       "      <td>NaN</td>\n",
       "      <td>NaN</td>\n",
       "      <td>NaN</td>\n",
       "    </tr>\n",
       "    <tr>\n",
       "      <th>3438</th>\n",
       "      <td>5/09/2020</td>\n",
       "      <td>185</td>\n",
       "      <td>169.0</td>\n",
       "      <td>Argentina</td>\n",
       "      <td>Santiago del Estero</td>\n",
       "      <td>NaN</td>\n",
       "      <td>471475</td>\n",
       "      <td>67</td>\n",
       "      <td>9736</td>\n",
       "      <td>3</td>\n",
       "      <td>NaN</td>\n",
       "      <td>NaN</td>\n",
       "      <td>NaN</td>\n",
       "      <td>NaN</td>\n",
       "      <td>NaN</td>\n",
       "      <td>NaN</td>\n",
       "      <td>NaN</td>\n",
       "      <td>NaN</td>\n",
       "      <td>NaN</td>\n",
       "    </tr>\n",
       "    <tr>\n",
       "      <th>3439</th>\n",
       "      <td>5/09/2020</td>\n",
       "      <td>185</td>\n",
       "      <td>169.0</td>\n",
       "      <td>Argentina</td>\n",
       "      <td>Tierra del Fuego</td>\n",
       "      <td>NaN</td>\n",
       "      <td>471499</td>\n",
       "      <td>24</td>\n",
       "      <td>9738</td>\n",
       "      <td>2</td>\n",
       "      <td>NaN</td>\n",
       "      <td>NaN</td>\n",
       "      <td>NaN</td>\n",
       "      <td>NaN</td>\n",
       "      <td>NaN</td>\n",
       "      <td>NaN</td>\n",
       "      <td>NaN</td>\n",
       "      <td>NaN</td>\n",
       "      <td>NaN</td>\n",
       "    </tr>\n",
       "    <tr>\n",
       "      <th>3440</th>\n",
       "      <td>5/09/2020</td>\n",
       "      <td>185</td>\n",
       "      <td>169.0</td>\n",
       "      <td>Argentina</td>\n",
       "      <td>Tucumán</td>\n",
       "      <td>NaN</td>\n",
       "      <td>471806</td>\n",
       "      <td>307</td>\n",
       "      <td>9739</td>\n",
       "      <td>1</td>\n",
       "      <td>NaN</td>\n",
       "      <td>NaN</td>\n",
       "      <td>NaN</td>\n",
       "      <td>NaN</td>\n",
       "      <td>NaN</td>\n",
       "      <td>NaN</td>\n",
       "      <td>NaN</td>\n",
       "      <td>NaN</td>\n",
       "      <td>NaN</td>\n",
       "    </tr>\n",
       "    <tr>\n",
       "      <th>3441</th>\n",
       "      <td>5/09/2020</td>\n",
       "      <td>185</td>\n",
       "      <td>169.0</td>\n",
       "      <td>Argentina</td>\n",
       "      <td>Indeterminado</td>\n",
       "      <td>NaN</td>\n",
       "      <td>471806</td>\n",
       "      <td>0</td>\n",
       "      <td>9739</td>\n",
       "      <td>0</td>\n",
       "      <td>NaN</td>\n",
       "      <td>NaN</td>\n",
       "      <td>NaN</td>\n",
       "      <td>NaN</td>\n",
       "      <td>NaN</td>\n",
       "      <td>NaN</td>\n",
       "      <td>NaN</td>\n",
       "      <td>NaN</td>\n",
       "      <td>NaN</td>\n",
       "    </tr>\n",
       "  </tbody>\n",
       "</table>\n",
       "<p>3442 rows × 19 columns</p>\n",
       "</div>"
      ],
      "text/plain": [
       "          fecha  dia_inicio  dia_cuarentena_dnu260 osm_admin_level_2  \\\n",
       "0     2/03/2020           1                    NaN         Argentina   \n",
       "1     3/03/2020           2                    NaN         Argentina   \n",
       "2     4/03/2020           3                    NaN         Argentina   \n",
       "3     5/03/2020           4                    NaN         Argentina   \n",
       "4     6/03/2020           5                    NaN         Argentina   \n",
       "...         ...         ...                    ...               ...   \n",
       "3437  5/09/2020         185                  169.0         Argentina   \n",
       "3438  5/09/2020         185                  169.0         Argentina   \n",
       "3439  5/09/2020         185                  169.0         Argentina   \n",
       "3440  5/09/2020         185                  169.0         Argentina   \n",
       "3441  5/09/2020         185                  169.0         Argentina   \n",
       "\n",
       "        osm_admin_level_4 osm_admin_level_8  tot_casosconf  \\\n",
       "0                    CABA               NaN              1   \n",
       "1           Indeterminado               NaN              1   \n",
       "2           Indeterminado               NaN              1   \n",
       "3            Buenos Aires               NaN              2   \n",
       "4           Indeterminado               NaN              2   \n",
       "...                   ...               ...            ...   \n",
       "3437             Santa Fe               NaN         471408   \n",
       "3438  Santiago del Estero               NaN         471475   \n",
       "3439     Tierra del Fuego               NaN         471499   \n",
       "3440              Tucumán               NaN         471806   \n",
       "3441        Indeterminado               NaN         471806   \n",
       "\n",
       "      nue_casosconf_diff  tot_fallecidos  nue_fallecidos_diff tot_recuperados  \\\n",
       "0                      1               0                    0             NaN   \n",
       "1                      0               0                    0             NaN   \n",
       "2                      0               0                    0             NaN   \n",
       "3                      1               2                    2             NaN   \n",
       "4                      0               2                    0             NaN   \n",
       "...                  ...             ...                  ...             ...   \n",
       "3437                 698            9733                    6             NaN   \n",
       "3438                  67            9736                    3             NaN   \n",
       "3439                  24            9738                    2             NaN   \n",
       "3440                 307            9739                    1             NaN   \n",
       "3441                   0            9739                    0             NaN   \n",
       "\n",
       "      tot_terapia  test_RT-PCR_negativos  test_RT-PCR_total transmision_tipo  \\\n",
       "0             NaN                    NaN                NaN        importado   \n",
       "1             NaN                    NaN                NaN        importado   \n",
       "2             NaN                    NaN                NaN        importado   \n",
       "3             NaN                    NaN                NaN        importado   \n",
       "4             NaN                    NaN                NaN        importado   \n",
       "...           ...                    ...                ...              ...   \n",
       "3437          NaN                    NaN                NaN              NaN   \n",
       "3438          NaN                    NaN                NaN              NaN   \n",
       "3439          NaN                    NaN                NaN              NaN   \n",
       "3440          NaN                    NaN                NaN              NaN   \n",
       "3441          NaN                    NaN                NaN              NaN   \n",
       "\n",
       "          informe_tipo                                       informe_link  \\\n",
       "0                  NaN  https://www.infobae.com/coronavirus/2020/03/03...   \n",
       "1                  NaN                                                NaN   \n",
       "2                  NaN                                                NaN   \n",
       "3     informe nacional  https://www.argentina.gob.ar/sites/default/fil...   \n",
       "4     informe nacional  https://www.argentina.gob.ar/sites/default/fil...   \n",
       "...                ...                                                ...   \n",
       "3437               NaN                                                NaN   \n",
       "3438               NaN                                                NaN   \n",
       "3439               NaN                                                NaN   \n",
       "3440               NaN                                                NaN   \n",
       "3441               NaN                                                NaN   \n",
       "\n",
       "         observacion covid19argentina_admin_level_4  \n",
       "0     no hay informe                capital-federal  \n",
       "1     no hay informe                        no-data  \n",
       "2     no hay informe                        no-data  \n",
       "3                NaN                   buenos-aires  \n",
       "4                NaN                        no-data  \n",
       "...              ...                            ...  \n",
       "3437             NaN                            NaN  \n",
       "3438             NaN                            NaN  \n",
       "3439             NaN                            NaN  \n",
       "3440             NaN                            NaN  \n",
       "3441             NaN                            NaN  \n",
       "\n",
       "[3442 rows x 19 columns]"
      ]
     },
     "execution_count": 7,
     "metadata": {},
     "output_type": "execute_result"
    }
   ],
   "source": [
    "df"
   ]
  },
  {
   "cell_type": "code",
   "execution_count": null,
   "metadata": {},
   "outputs": [],
   "source": []
  }
 ],
 "metadata": {
  "kernelspec": {
   "display_name": "Python 3",
   "language": "python",
   "name": "python3"
  },
  "language_info": {
   "codemirror_mode": {
    "name": "ipython",
    "version": 3
   },
   "file_extension": ".py",
   "mimetype": "text/x-python",
   "name": "python",
   "nbconvert_exporter": "python",
   "pygments_lexer": "ipython3",
   "version": "3.8.2"
  }
 },
 "nbformat": 4,
 "nbformat_minor": 4
}
